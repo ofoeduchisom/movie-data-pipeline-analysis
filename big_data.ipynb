{
  "cells": [
    {
      "cell_type": "markdown",
      "metadata": {
        "id": "view-in-github",
        "colab_type": "text"
      },
      "source": [
        "<a href=\"https://colab.research.google.com/github/ofoeduchisom/movie-data-pipeline-analysis/blob/main/big_data.ipynb\" target=\"_parent\"><img src=\"https://colab.research.google.com/assets/colab-badge.svg\" alt=\"Open In Colab\"/></a>"
      ]
    },
    {
      "cell_type": "code",
      "execution_count": 1,
      "metadata": {
        "colab": {
          "base_uri": "https://localhost:8080/"
        },
        "id": "53ZelOh033WP",
        "outputId": "a246879d-c9df-4011-daa4-3ae3897bd322"
      },
      "outputs": [
        {
          "output_type": "stream",
          "name": "stdout",
          "text": [
            "Requirement already satisfied: pandas in /usr/local/lib/python3.11/dist-packages (2.2.2)\n",
            "Requirement already satisfied: matplotlib in /usr/local/lib/python3.11/dist-packages (3.10.0)\n",
            "Requirement already satisfied: seaborn in /usr/local/lib/python3.11/dist-packages (0.13.2)\n",
            "Requirement already satisfied: numpy>=1.23.2 in /usr/local/lib/python3.11/dist-packages (from pandas) (2.0.2)\n",
            "Requirement already satisfied: python-dateutil>=2.8.2 in /usr/local/lib/python3.11/dist-packages (from pandas) (2.9.0.post0)\n",
            "Requirement already satisfied: pytz>=2020.1 in /usr/local/lib/python3.11/dist-packages (from pandas) (2025.2)\n",
            "Requirement already satisfied: tzdata>=2022.7 in /usr/local/lib/python3.11/dist-packages (from pandas) (2025.2)\n",
            "Requirement already satisfied: contourpy>=1.0.1 in /usr/local/lib/python3.11/dist-packages (from matplotlib) (1.3.2)\n",
            "Requirement already satisfied: cycler>=0.10 in /usr/local/lib/python3.11/dist-packages (from matplotlib) (0.12.1)\n",
            "Requirement already satisfied: fonttools>=4.22.0 in /usr/local/lib/python3.11/dist-packages (from matplotlib) (4.58.0)\n",
            "Requirement already satisfied: kiwisolver>=1.3.1 in /usr/local/lib/python3.11/dist-packages (from matplotlib) (1.4.8)\n",
            "Requirement already satisfied: packaging>=20.0 in /usr/local/lib/python3.11/dist-packages (from matplotlib) (24.2)\n",
            "Requirement already satisfied: pillow>=8 in /usr/local/lib/python3.11/dist-packages (from matplotlib) (11.2.1)\n",
            "Requirement already satisfied: pyparsing>=2.3.1 in /usr/local/lib/python3.11/dist-packages (from matplotlib) (3.2.3)\n",
            "Requirement already satisfied: six>=1.5 in /usr/local/lib/python3.11/dist-packages (from python-dateutil>=2.8.2->pandas) (1.17.0)\n"
          ]
        }
      ],
      "source": [
        "pip install pandas matplotlib seaborn\n",
        "!pip install -q gdown"
      ]
    },
    {
      "cell_type": "code",
      "execution_count": 2,
      "metadata": {
        "id": "bJKhYrKkdJXi",
        "colab": {
          "base_uri": "https://localhost:8080/"
        },
        "outputId": "11959f52-53be-4fba-b73d-3e990fe18013"
      },
      "outputs": [
        {
          "output_type": "stream",
          "name": "stdout",
          "text": [
            "^C\n",
            "\n",
            "gzip: stdin: unexpected end of file\n",
            "tar: Unexpected EOF in archive\n",
            "tar: Unexpected EOF in archive\n",
            "tar: Error is not recoverable: exiting now\n"
          ]
        }
      ],
      "source": [
        "!apt-get install openjdk-8-jdk-headless -qq > /dev/null\n",
        "!wget -q http://archive.apache.org/dist/spark/spark-3.1.1/spark-3.1.1-bin-hadoop3.2.tgz\n",
        "!tar xf spark-3.1.1-bin-hadoop3.2.tgz\n",
        "!pip install -q findspark"
      ]
    },
    {
      "cell_type": "code",
      "execution_count": 3,
      "metadata": {
        "id": "lOrv7iRPw04-"
      },
      "outputs": [],
      "source": [
        "import gdown\n",
        "import pandas as pd\n",
        "import matplotlib.pyplot as plt\n",
        "import seaborn as sns"
      ]
    },
    {
      "cell_type": "code",
      "execution_count": 4,
      "metadata": {
        "colab": {
          "base_uri": "https://localhost:8080/",
          "height": 219
        },
        "id": "B9SWqfv3djGE",
        "outputId": "ba0a7743-8f5f-4856-af87-f343c0e9c314"
      },
      "outputs": [
        {
          "output_type": "execute_result",
          "data": {
            "text/plain": [
              "<pyspark.sql.session.SparkSession at 0x78fca962a010>"
            ],
            "text/html": [
              "\n",
              "            <div>\n",
              "                <p><b>SparkSession - in-memory</b></p>\n",
              "                \n",
              "        <div>\n",
              "            <p><b>SparkContext</b></p>\n",
              "\n",
              "            <p><a href=\"http://29d41e58a14a:4040\">Spark UI</a></p>\n",
              "\n",
              "            <dl>\n",
              "              <dt>Version</dt>\n",
              "                <dd><code>v3.5.1</code></dd>\n",
              "              <dt>Master</dt>\n",
              "                <dd><code>local[*]</code></dd>\n",
              "              <dt>AppName</dt>\n",
              "                <dd><code>pyspark-shell</code></dd>\n",
              "            </dl>\n",
              "        </div>\n",
              "        \n",
              "            </div>\n",
              "        "
            ]
          },
          "metadata": {},
          "execution_count": 4
        }
      ],
      "source": [
        "import findspark\n",
        "findspark.init()\n",
        "from pyspark.sql import SparkSession\n",
        "spark = SparkSession.builder.master(\"local[*]\").getOrCreate()\n",
        "spark.conf.set(\"spark.sql.repl.eagerEval.enabled\", True) # Property used to format output tables better\n",
        "spark"
      ]
    },
    {
      "cell_type": "code",
      "source": [
        "# Google Drive file ID of the dataset\n",
        "file_id = \"10LhIqJ-Dh4X9BNyOlY1g6xu62q3X0eRo\"\n",
        "gdown.download(f\"https://drive.google.com/uc?id={file_id}\", \"merged_data.csv\", quiet=False)"
      ],
      "metadata": {
        "colab": {
          "base_uri": "https://localhost:8080/",
          "height": 122
        },
        "id": "3FQacWDgaxlJ",
        "outputId": "28ff5447-c65e-423c-c0e2-16084ad2b3df"
      },
      "execution_count": 7,
      "outputs": [
        {
          "output_type": "stream",
          "name": "stderr",
          "text": [
            "Downloading...\n",
            "From (original): https://drive.google.com/uc?id=10LhIqJ-Dh4X9BNyOlY1g6xu62q3X0eRo\n",
            "From (redirected): https://drive.google.com/uc?id=10LhIqJ-Dh4X9BNyOlY1g6xu62q3X0eRo&confirm=t&uuid=784e674a-f68b-4042-b36f-ca7db959b05a\n",
            "To: /content/merged_data.csv\n",
            "100%|██████████| 954M/954M [00:09<00:00, 103MB/s] \n"
          ]
        },
        {
          "output_type": "execute_result",
          "data": {
            "text/plain": [
              "'merged_data.csv'"
            ],
            "application/vnd.google.colaboratory.intrinsic+json": {
              "type": "string"
            }
          },
          "metadata": {},
          "execution_count": 7
        }
      ]
    },
    {
      "cell_type": "code",
      "source": [
        "df = pd.read_csv(\"merged_data.csv\")"
      ],
      "metadata": {
        "colab": {
          "base_uri": "https://localhost:8080/"
        },
        "id": "ZKF0UNEWczAk",
        "outputId": "7717498a-d853-4a2e-abb5-55c4ace52008"
      },
      "execution_count": 8,
      "outputs": [
        {
          "output_type": "stream",
          "name": "stderr",
          "text": [
            "<ipython-input-8-5bb80ff080e2>:1: DtypeWarning: Columns (7,8,9,10) have mixed types. Specify dtype option on import or set low_memory=False.\n",
            "  df = pd.read_csv(\"merged_data.csv\")\n"
          ]
        }
      ]
    },
    {
      "cell_type": "code",
      "execution_count": 6,
      "metadata": {
        "colab": {
          "base_uri": "https://localhost:8080/"
        },
        "id": "zo4fVSfW-xZ-",
        "outputId": "fc8f362e-295c-443c-e22c-a53fa44a3473"
      },
      "outputs": [
        {
          "output_type": "execute_result",
          "data": {
            "text/plain": [
              "12"
            ]
          },
          "metadata": {},
          "execution_count": 6
        }
      ],
      "source": [
        "# Displays Number of columns in dataframe\n",
        "len(df.columns)"
      ]
    },
    {
      "cell_type": "code",
      "execution_count": null,
      "metadata": {
        "colab": {
          "base_uri": "https://localhost:8080/"
        },
        "id": "K1lsiFLH-2Ir",
        "outputId": "f2f46ced-dcab-43b0-9ea2-3ff82250eb82"
      },
      "outputs": [
        {
          "output_type": "execute_result",
          "data": {
            "text/plain": [
              "12077679"
            ]
          },
          "metadata": {},
          "execution_count": 9
        }
      ],
      "source": [
        "# Displays Number of rows in the dataframe\n",
        "df.count()"
      ]
    },
    {
      "cell_type": "code",
      "execution_count": null,
      "metadata": {
        "id": "Dem4_RoQOBot"
      },
      "outputs": [],
      "source": [
        "def drop_duplicates_tconst(df):\n",
        "    # Remove duplicates and sort by 'tconst'\n",
        "    return df.dropDuplicates([\"tconst\"]).orderBy(\"tconst\", ascending=True)\n",
        "#Update the DataFrame\n",
        "df = drop_duplicates_tconst(df)"
      ]
    },
    {
      "cell_type": "code",
      "execution_count": null,
      "metadata": {
        "colab": {
          "base_uri": "https://localhost:8080/"
        },
        "id": "uO0tsOnGOV5m",
        "outputId": "763288df-73d7-463c-9b29-b11956f9eb5b"
      },
      "outputs": [
        {
          "output_type": "stream",
          "name": "stdout",
          "text": [
            "+---------+---------+---------+--------------+--------------------+-------------+--------+---------+---------------+------+-----------+---------------+\n",
            "|   tconst|titleType|startYear|runtimeMinutes|              genres|averageRating|numVotes|   nconst|       category|Region|      Types|isOriginalTitle|\n",
            "+---------+---------+---------+--------------+--------------------+-------------+--------+---------+---------------+------+-----------+---------------+\n",
            "|tt0000001|    short|     1894|             1|   Documentary,Short|          5.7|    2100|nm0005690|       director|    DE|         \\N|              0|\n",
            "|tt0000002|    short|     1892|             5|     Animation,Short|          5.6|     282|nm0721526|       director|    HU|imdbDisplay|              0|\n",
            "|tt0000003|    short|     1892|             5|Animation,Comedy,...|          6.5|    2119|nm0721526|       director|    DE|         \\N|              0|\n",
            "|tt0000004|    short|     1892|            12|     Animation,Short|          5.4|     182|nm0721526|       director|    \\N|         \\N|              0|\n",
            "|tt0000005|    short|     1893|             1|        Comedy,Short|          6.2|    2851|nm0249379|       producer|    HU|imdbDisplay|              0|\n",
            "|tt0000006|    short|     1894|             1|               Short|          5.0|     200|     NULL|           NULL|    US|imdbDisplay|              0|\n",
            "|tt0000007|    short|     1894|             1|         Short,Sport|          5.4|     891|nm0005690|       director|    HU|imdbDisplay|              0|\n",
            "|tt0000008|    short|     1894|             1|   Documentary,Short|          5.4|    2248|nm0005690|       director|    US|imdbDisplay|              0|\n",
            "|tt0000009|    movie|     1894|            45|             Romance|          5.4|     215|nm0063086|        actress|    DE|         \\N|              0|\n",
            "|tt0000010|    short|     1895|             1|   Documentary,Short|          6.8|    7753|nm0525910|cinematographer|    BR|         \\N|              0|\n",
            "|tt0000011|    short|     1895|             1|   Documentary,Short|          5.2|     403|nm0804434|cinematographer|    DE|imdbDisplay|              0|\n",
            "|tt0000012|    short|     1896|             1|   Documentary,Short|          7.4|   13178|nm0525900|           self|    BR|imdbDisplay|              0|\n",
            "|tt0000013|    short|     1895|             1|   Documentary,Short|          5.7|    2020|nm0525908|           self|    HU|imdbDisplay|              0|\n",
            "|tt0000014|    short|     1895|             1|        Comedy,Short|          7.1|    5995|nm0166380|          actor|    HU|imdbDisplay|              0|\n",
            "|tt0000015|    short|     1894|             2|     Animation,Short|          6.1|    1231|nm0721526|       director|    ES|imdbDisplay|              0|\n",
            "|tt0000016|    short|     1895|             1|   Documentary,Short|          5.9|    1622|nm0525900|           self|    FR|imdbDisplay|              0|\n",
            "|tt0000017|    short|     1895|             1|   Documentary,Short|          4.6|     363|nm0804434|cinematographer|    DE|         \\N|              0|\n",
            "|tt0000018|    short|     1895|             1|               Short|          5.2|     644|nm0804434|cinematographer|    RO|imdbDisplay|              0|\n",
            "|tt0000019|    short|     1898|            \\N|        Comedy,Short|          5.1|      32|nm0932055|cinematographer|    GB|imdbDisplay|              0|\n",
            "|tt0000020|    short|     1895|             1|Documentary,Short...|          4.7|     402|nm0010291|cinematographer|    GB|imdbDisplay|              0|\n",
            "+---------+---------+---------+--------------+--------------------+-------------+--------+---------+---------------+------+-----------+---------------+\n",
            "only showing top 20 rows\n",
            "\n"
          ]
        }
      ],
      "source": [
        "df.show()"
      ]
    },
    {
      "cell_type": "code",
      "execution_count": null,
      "metadata": {
        "colab": {
          "base_uri": "https://localhost:8080/"
        },
        "id": "yyJ8LvtnoizQ",
        "outputId": "63aa574e-0128-40d4-9ad2-65bcd0041ec5"
      },
      "outputs": [
        {
          "output_type": "execute_result",
          "data": {
            "text/plain": [
              "1048575"
            ]
          },
          "metadata": {},
          "execution_count": 11
        }
      ],
      "source": [
        "#number of rows after dropping duplicates\n",
        "df.count()"
      ]
    },
    {
      "cell_type": "code",
      "execution_count": null,
      "metadata": {
        "id": "WLpU5IbIY87m"
      },
      "outputs": [],
      "source": [
        "from pyspark.sql.functions import col, sum, when"
      ]
    },
    {
      "cell_type": "code",
      "execution_count": null,
      "metadata": {
        "id": "OSJWzlimZNi7"
      },
      "outputs": [],
      "source": [
        "def replace_null_strings(df):\n",
        "    # Replace '\\\\N' with None in all columns\n",
        "    return df.select([when(col(c) == '\\\\N', None).otherwise(col(c)).alias(c) for c in df.columns])\n",
        "# Update the DataFrame\n",
        "df = replace_null_strings(df)"
      ]
    },
    {
      "cell_type": "code",
      "execution_count": null,
      "metadata": {
        "colab": {
          "base_uri": "https://localhost:8080/"
        },
        "id": "2FlA6Z0baB4T",
        "outputId": "516767e4-bf48-4c88-fd62-40e77126139a"
      },
      "outputs": [
        {
          "output_type": "stream",
          "name": "stdout",
          "text": [
            "+---------+---------+---------+--------------+--------------------+-------------+--------+---------+---------------+------+-----------+---------------+\n",
            "|   tconst|titleType|startYear|runtimeMinutes|              genres|averageRating|numVotes|   nconst|       category|Region|      Types|isOriginalTitle|\n",
            "+---------+---------+---------+--------------+--------------------+-------------+--------+---------+---------------+------+-----------+---------------+\n",
            "|tt0000001|    short|     1894|             1|   Documentary,Short|          5.7|    2100|nm0005690|       director|    DE|       NULL|              0|\n",
            "|tt0000002|    short|     1892|             5|     Animation,Short|          5.6|     282|nm0721526|       director|    HU|imdbDisplay|              0|\n",
            "|tt0000003|    short|     1892|             5|Animation,Comedy,...|          6.5|    2119|nm0721526|       director|    DE|       NULL|              0|\n",
            "|tt0000004|    short|     1892|            12|     Animation,Short|          5.4|     182|nm0721526|       director|  NULL|       NULL|              0|\n",
            "|tt0000005|    short|     1893|             1|        Comedy,Short|          6.2|    2851|nm0249379|       producer|    HU|imdbDisplay|              0|\n",
            "|tt0000006|    short|     1894|             1|               Short|          5.0|     200|     NULL|           NULL|    US|imdbDisplay|              0|\n",
            "|tt0000007|    short|     1894|             1|         Short,Sport|          5.4|     891|nm0005690|       director|    HU|imdbDisplay|              0|\n",
            "|tt0000008|    short|     1894|             1|   Documentary,Short|          5.4|    2248|nm0005690|       director|    US|imdbDisplay|              0|\n",
            "|tt0000009|    movie|     1894|            45|             Romance|          5.4|     215|nm0063086|        actress|    DE|       NULL|              0|\n",
            "|tt0000010|    short|     1895|             1|   Documentary,Short|          6.8|    7753|nm0525910|cinematographer|    BR|       NULL|              0|\n",
            "|tt0000011|    short|     1895|             1|   Documentary,Short|          5.2|     403|nm0804434|cinematographer|    DE|imdbDisplay|              0|\n",
            "|tt0000012|    short|     1896|             1|   Documentary,Short|          7.4|   13178|nm0525900|           self|    BR|imdbDisplay|              0|\n",
            "|tt0000013|    short|     1895|             1|   Documentary,Short|          5.7|    2020|nm0525908|           self|    HU|imdbDisplay|              0|\n",
            "|tt0000014|    short|     1895|             1|        Comedy,Short|          7.1|    5995|nm0166380|          actor|    HU|imdbDisplay|              0|\n",
            "|tt0000015|    short|     1894|             2|     Animation,Short|          6.1|    1231|nm0721526|       director|    ES|imdbDisplay|              0|\n",
            "|tt0000016|    short|     1895|             1|   Documentary,Short|          5.9|    1622|nm0525900|           self|    FR|imdbDisplay|              0|\n",
            "|tt0000017|    short|     1895|             1|   Documentary,Short|          4.6|     363|nm0804434|cinematographer|    DE|       NULL|              0|\n",
            "|tt0000018|    short|     1895|             1|               Short|          5.2|     644|nm0804434|cinematographer|    RO|imdbDisplay|              0|\n",
            "|tt0000019|    short|     1898|          NULL|        Comedy,Short|          5.1|      32|nm0932055|cinematographer|    GB|imdbDisplay|              0|\n",
            "|tt0000020|    short|     1895|             1|Documentary,Short...|          4.7|     402|nm0010291|cinematographer|    GB|imdbDisplay|              0|\n",
            "+---------+---------+---------+--------------+--------------------+-------------+--------+---------+---------------+------+-----------+---------------+\n",
            "only showing top 20 rows\n",
            "\n"
          ]
        }
      ],
      "source": [
        "df.show()"
      ]
    },
    {
      "cell_type": "code",
      "execution_count": null,
      "metadata": {
        "id": "f-eVkcLqajkh"
      },
      "outputs": [],
      "source": [
        "def drop_null_rows(df):\n",
        "    # Drop rows with any null values\n",
        "    return df.dropna()\n",
        "# Update the DataFrame\n",
        "df = drop_null_rows(df)"
      ]
    },
    {
      "cell_type": "code",
      "execution_count": null,
      "metadata": {
        "id": "XkQ3nXxxgc3V"
      },
      "outputs": [],
      "source": [
        "df.show()"
      ]
    },
    {
      "cell_type": "code",
      "execution_count": null,
      "metadata": {
        "id": "IKsMjPH3egr5"
      },
      "outputs": [],
      "source": [
        "def drop_column(df, isOriginalTitle):\n",
        "    # Drop the specified column from the DataFrame\n",
        "    return df.drop(isOriginalTitle)\n",
        "# Update the DataFrame by dropping the 'isOriginalTitle' column\n",
        "df = drop_column(df, \"isOriginalTitle\")"
      ]
    },
    {
      "cell_type": "code",
      "execution_count": null,
      "metadata": {
        "id": "MbF7lUKGjxLJ"
      },
      "outputs": [],
      "source": [
        "df.show()"
      ]
    },
    {
      "cell_type": "code",
      "execution_count": null,
      "metadata": {
        "colab": {
          "base_uri": "https://localhost:8080/"
        },
        "id": "pLIDidDIfoao",
        "outputId": "81e07b89-6aae-47c1-96e5-d6ab69dedcb7"
      },
      "outputs": [
        {
          "output_type": "execute_result",
          "data": {
            "text/plain": [
              "['tconst',\n",
              " 'titleType',\n",
              " 'startYear',\n",
              " 'runtimeMinutes',\n",
              " 'genres',\n",
              " 'averageRating',\n",
              " 'numVotes',\n",
              " 'nconst',\n",
              " 'category',\n",
              " 'Region',\n",
              " 'Types']"
            ]
          },
          "metadata": {},
          "execution_count": 16
        }
      ],
      "source": [
        "#Get the list of columns in the DataFrame\n",
        "df.columns"
      ]
    },
    {
      "cell_type": "code",
      "execution_count": null,
      "metadata": {
        "colab": {
          "base_uri": "https://localhost:8080/"
        },
        "id": "x319S1tCfuNN",
        "outputId": "94661052-336f-4584-b839-a7def4379250"
      },
      "outputs": [
        {
          "output_type": "execute_result",
          "data": {
            "text/plain": [
              "[('tconst', 'string'),\n",
              " ('titleType', 'string'),\n",
              " ('startYear', 'int'),\n",
              " ('runtimeMinutes', 'string'),\n",
              " ('genres', 'string'),\n",
              " ('averageRating', 'double'),\n",
              " ('numVotes', 'int'),\n",
              " ('nconst', 'string'),\n",
              " ('category', 'string'),\n",
              " ('Region', 'string'),\n",
              " ('Types', 'string')]"
            ]
          },
          "metadata": {},
          "execution_count": 17
        }
      ],
      "source": [
        "# Get data types for each column\n",
        "df.dtypes"
      ]
    },
    {
      "cell_type": "code",
      "execution_count": null,
      "metadata": {
        "colab": {
          "base_uri": "https://localhost:8080/"
        },
        "id": "-sqZFCw3AtR5",
        "outputId": "8cd8f2b6-8285-4514-a082-bc40385b0192"
      },
      "outputs": [
        {
          "output_type": "stream",
          "name": "stdout",
          "text": [
            "root\n",
            " |-- tconst: string (nullable = true)\n",
            " |-- titleType: string (nullable = true)\n",
            " |-- startYear: integer (nullable = true)\n",
            " |-- runtimeMinutes: integer (nullable = true)\n",
            " |-- genres: string (nullable = true)\n",
            " |-- averageRating: double (nullable = true)\n",
            " |-- numVotes: integer (nullable = true)\n",
            " |-- nconst: string (nullable = true)\n",
            " |-- category: string (nullable = true)\n",
            " |-- Region: string (nullable = true)\n",
            " |-- Types: string (nullable = true)\n",
            "\n"
          ]
        }
      ],
      "source": [
        "# Import the col function for column operations\n",
        "from pyspark.sql.functions import col\n",
        "\n",
        "# Function to cast the data types of specified columns in a DataFrame\n",
        "def cast_columns(df, columns_to_cast):\n",
        "    # Iterate through the dictionary of columns to cast\n",
        "    for column, dtype in columns_to_cast.items():\n",
        "        # Update the DataFrame by casting each column to the specified data type\n",
        "        df = df.withColumn(column, col(column).cast(dtype))\n",
        "    return df\n",
        "columns_to_cast = {\n",
        "    \"runtimeMinutes\": \"int\"\n",
        "}\n",
        "# Call the cast_columns function to apply the type casting to the DataFrame\n",
        "df = cast_columns(df, columns_to_cast)\n",
        "# print schema\n",
        "df.printSchema()"
      ]
    },
    {
      "cell_type": "code",
      "execution_count": null,
      "metadata": {
        "colab": {
          "base_uri": "https://localhost:8080/"
        },
        "id": "LSKRLVdcbOS-",
        "outputId": "4a73d20a-094a-41d7-df3f-d0477e0fc9c8"
      },
      "outputs": [
        {
          "output_type": "execute_result",
          "data": {
            "text/plain": [
              "38323"
            ]
          },
          "metadata": {},
          "execution_count": 22
        }
      ],
      "source": [
        "# Get the total number of rows in the DataFrame\n",
        "df.count()"
      ]
    },
    {
      "cell_type": "code",
      "execution_count": null,
      "metadata": {
        "colab": {
          "base_uri": "https://localhost:8080/"
        },
        "id": "9WS2UzY18mvY",
        "outputId": "59e0fdbe-1c0d-4de9-81ce-01aca059e200"
      },
      "outputs": [
        {
          "output_type": "stream",
          "name": "stdout",
          "text": [
            "+------+\n",
            "|Region|\n",
            "+------+\n",
            "|    LT|\n",
            "|    DZ|\n",
            "|    FI|\n",
            "|    UA|\n",
            "|    RO|\n",
            "|    NL|\n",
            "|  DDDE|\n",
            "|  VDVN|\n",
            "|    PL|\n",
            "|    MX|\n",
            "|    EE|\n",
            "|    AT|\n",
            "|    RU|\n",
            "|    HR|\n",
            "|    SV|\n",
            "|    CZ|\n",
            "|    PT|\n",
            "|    HK|\n",
            "|    TW|\n",
            "|    CL|\n",
            "+------+\n",
            "only showing top 20 rows\n",
            "\n"
          ]
        }
      ],
      "source": [
        "# Function to Display distinct values in region column\n",
        "def check_for_distinct_values(df, Region):\n",
        "\n",
        "# display disinct values\n",
        "  return df.select(Region).distinct().show()\n",
        "\n",
        "# Call the function to check for distinct values in the 'Region' column\n",
        "check_for_distinct_values(df, \"Region\")"
      ]
    },
    {
      "cell_type": "code",
      "execution_count": null,
      "metadata": {
        "id": "FuIxZ84KnUgR"
      },
      "outputs": [],
      "source": [
        "from pyspark.sql.functions import length\n",
        "# Function to remove rows where the 'Region' column has more than two characters\n",
        "def remove_rows_with_more_than_two_characters(df, Region):\n",
        "     # Remove rows where the length of the 'Region' column is greater than 2\n",
        "    df_cleaned = df.filter(~(length(df[Region]) > 2))\n",
        "    return df_cleaned\n",
        "# Apply the function to clean the DataFrame\n",
        "df = remove_rows_with_more_than_two_characters(df, 'Region')"
      ]
    },
    {
      "cell_type": "code",
      "execution_count": null,
      "metadata": {
        "colab": {
          "base_uri": "https://localhost:8080/"
        },
        "id": "f-UZsXxR31Rl",
        "outputId": "daebcb9a-8ec3-4a41-876f-4ad5b493e6c9"
      },
      "outputs": [
        {
          "output_type": "stream",
          "name": "stdout",
          "text": [
            "+------+\n",
            "|Region|\n",
            "+------+\n",
            "|    LT|\n",
            "|    DZ|\n",
            "|    FI|\n",
            "|    UA|\n",
            "|    RO|\n",
            "|    NL|\n",
            "|    PL|\n",
            "|    MX|\n",
            "|    EE|\n",
            "|    AT|\n",
            "|    RU|\n",
            "|    HR|\n",
            "|    SV|\n",
            "|    CZ|\n",
            "|    PT|\n",
            "|    HK|\n",
            "|    TW|\n",
            "|    CL|\n",
            "|    ID|\n",
            "|    AU|\n",
            "+------+\n",
            "only showing top 20 rows\n",
            "\n"
          ]
        }
      ],
      "source": [
        "df.select(\"Region\").distinct().show()"
      ]
    },
    {
      "cell_type": "code",
      "execution_count": null,
      "metadata": {
        "colab": {
          "base_uri": "https://localhost:8080/"
        },
        "id": "ju2g72DF-xhy",
        "outputId": "3c118fde-5292-48a9-9432-79962886fd10"
      },
      "outputs": [
        {
          "output_type": "stream",
          "name": "stdout",
          "text": [
            "+--------------+\n",
            "|         Types|\n",
            "+--------------+\n",
            "|   imdbDisplay|\n",
            "|   alternative|\n",
            "|            tv|\n",
            "|           dvd|\n",
            "|      festival|\n",
            "|         video|\n",
            "|       working|\n",
            "|imdbDisplay\u0002tv|\n",
            "+--------------+\n",
            "\n"
          ]
        }
      ],
      "source": [
        "# Function to Display distinct values in types column\n",
        "def check_for_distinct_values(df, Types):\n",
        "\n",
        "# display disinct values\n",
        "  return df.select(Types).distinct().show()\n",
        "\n",
        "# Call the function to check for distinct values in the 'Types' column\n",
        "check_for_distinct_values(df, \"Types\")"
      ]
    },
    {
      "cell_type": "code",
      "execution_count": null,
      "metadata": {
        "id": "v8uVuUSBACB4"
      },
      "outputs": [],
      "source": [
        "from pyspark.sql.functions import col\n",
        "\n",
        "def remove_rows_with_non_printable(df, column_name):\n",
        "     # Check if the specified column exists in the DataFrame\n",
        "    if column_name not in df.columns:\n",
        "        raise ValueError(f\"Column '{column_name}' does not exist in the DataFrame.\")\n",
        "\n",
        "    # Filter out rows with non-printable characters in the specified column\n",
        "    df_cleaned = df.filter(~col(column_name).rlike(r'[\\x00-\\x1F\\x7F\\x80-\\x9F]'))\n",
        "    return df_cleaned\n",
        "\n",
        "# Apply the function to clean the DataFrame\n",
        "df = remove_rows_with_non_printable(df, 'Types')"
      ]
    },
    {
      "cell_type": "code",
      "execution_count": null,
      "metadata": {
        "colab": {
          "base_uri": "https://localhost:8080/"
        },
        "id": "BqjbBYYF-ACL",
        "outputId": "73b105a5-a1e1-40e8-a14b-aa6e164fef26"
      },
      "outputs": [
        {
          "output_type": "stream",
          "name": "stdout",
          "text": [
            "+-----------+\n",
            "|      Types|\n",
            "+-----------+\n",
            "|imdbDisplay|\n",
            "|alternative|\n",
            "|         tv|\n",
            "|        dvd|\n",
            "|   festival|\n",
            "|      video|\n",
            "|    working|\n",
            "+-----------+\n",
            "\n"
          ]
        }
      ],
      "source": [
        "# Function to Display distinct values in types column\n",
        "def check_for_distinct_values(df, Types):\n",
        "\n",
        "# display disinct values\n",
        "  return df.select(Types).distinct().show()\n",
        "\n",
        "# Call the function to check for distinct values in the 'Types' column\n",
        "check_for_distinct_values(df, \"Types\")"
      ]
    },
    {
      "cell_type": "code",
      "execution_count": null,
      "metadata": {
        "id": "taZtMv1qpr_M"
      },
      "outputs": [],
      "source": [
        "df.count()"
      ]
    },
    {
      "cell_type": "code",
      "execution_count": null,
      "metadata": {
        "colab": {
          "base_uri": "https://localhost:8080/",
          "height": 564
        },
        "id": "Dg3dOhjgYdMF",
        "outputId": "e48e777f-aa07-443b-b724-c38d515fc79e"
      },
      "outputs": [
        {
          "output_type": "display_data",
          "data": {
            "text/plain": [
              "<Figure size 800x600 with 1 Axes>"
            ],
            "image/png": "[encoded data removed]"
          },
          "metadata": {}
        }
      ],
      "source": [
        "#Function to check for outliers in a column using boxplot\n",
        "def plot_boxplot_of_startyear(df):\n",
        "    # Convert the 'startyear' column from PySpark DataFrame to Pandas DataFrame\n",
        "    pandas_df = df.select('startYear').toPandas()\n",
        "\n",
        "    # Create a boxplot for the 'startyear' column\n",
        "    plt.figure(figsize=(8, 6))\n",
        "    sns.boxplot(x=pandas_df['startYear'])\n",
        "    plt.title('Startyear Boxplot')\n",
        "    plt.show()\n",
        "\n",
        "plot_boxplot_of_startyear(df)"
      ]
    },
    {
      "cell_type": "code",
      "execution_count": null,
      "metadata": {
        "id": "AcOhLHvmZicr"
      },
      "outputs": [],
      "source": [
        "# Calculate the first quartile (Q1), third quartile (Q3), and interquartile range (IQR) for a specified column.\n",
        "def calculate_Q1_Q3(df, column_name):\n",
        "    # Calculate the first quartile (Q1)\n",
        "    q1 = df.approxQuantile(column_name, [0.25], 0.0)[0]\n",
        "\n",
        "    # Calculate the third quartile (Q1)\n",
        "    q3 = df.approxQuantile(column_name, [0.75], 0.0)[0]\n",
        "\n",
        "    # Calculate the interquartile range (IQR)\n",
        "    iqr = q3 - q1\n",
        "    return q1, q3, iqr\n",
        "\n",
        "# Calculate Q1, Q3, and IQR for the 'startYear' column\n",
        "q1, q3, iqr = calculate_Q1_Q3(df, 'startYear')\n",
        "\n",
        "# Calculate the lower and upper bounds for outlier detection\n",
        "lower_bound = q1 - 1.5 * iqr\n",
        "upper_bound = q3 + 1.5 * iqr"
      ]
    },
    {
      "cell_type": "code",
      "execution_count": null,
      "metadata": {
        "colab": {
          "base_uri": "https://localhost:8080/"
        },
        "id": "ciWB2uUzdOg9",
        "outputId": "20adaa7e-b8d7-4988-d35f-5d58bf1181ee"
      },
      "outputs": [
        {
          "output_type": "stream",
          "name": "stdout",
          "text": [
            "1949\n"
          ]
        }
      ],
      "source": [
        "# Import functions from pyspark.sql module\n",
        "from pyspark.sql import functions as F\n",
        "\n",
        "# Define a function to calculate the median value of a specified column in a DataFrame\n",
        "def calculate_median_value(df, column_name):\n",
        "\n",
        "    # Use the percentile_approx function to calculate the approximate median (50th percentile) of the column\n",
        "    median_value = df.select(F.percentile_approx(column_name, 0.5)).first()[0]\n",
        "\n",
        "    # Return the calculated median value\n",
        "    return median_value\n",
        "\n",
        "# Call the function with a DataFrame 'df' and the column 'startYear' to calculate the median\n",
        "print(calculate_median_value(df, 'startYear'))"
      ]
    },
    {
      "cell_type": "code",
      "execution_count": null,
      "metadata": {
        "id": "kqWeivH7vuGM"
      },
      "outputs": [],
      "source": [
        "# Calculate the median value of the 'startYear' column\n",
        "median_value = calculate_median_value(df, 'startYear')\n",
        "\n",
        "# Replace out-of-bounds values in the 'startYear' column with the calculated median\n",
        "df = df.withColumn(\n",
        "    \"startYear\",\n",
        "     # Use the 'when' condition to check if values are out of bounds otherwise keep the original value\n",
        "    F.when((df[\"startYear\"] < lower_bound) | (df[\"startYear\"] > upper_bound), median_value)\n",
        "     .otherwise(df[\"startYear\"])\n",
        ")"
      ]
    },
    {
      "cell_type": "code",
      "execution_count": null,
      "metadata": {
        "colab": {
          "base_uri": "https://localhost:8080/",
          "height": 564
        },
        "id": "4pFsYdb_fkWl",
        "outputId": "1abaeaa1-a3c7-47ab-d608-7c78e347586e"
      },
      "outputs": [
        {
          "output_type": "display_data",
          "data": {
            "text/plain": [
              "<Figure size 800x600 with 1 Axes>"
            ],
            "image/png": "[encoded data removed]"
          },
          "metadata": {}
        }
      ],
      "source": [
        "# Function to generate a boxplot for the 'startYear' column\n",
        "def startYear_boxplot(df):\n",
        "\n",
        "  # Convert the 'startYear' column from Spark DataFrame to a Pandas DataFrame\n",
        "    pandas_df = df.select('startYear').toPandas()\n",
        "\n",
        "# Create the boxplot\n",
        "    plt.figure(figsize=(8, 6)) # Set the figure size for better visualization\n",
        "    sns.boxplot(x=pandas_df['startYear']) # Create a boxplot of the 'averagestartYearRating' values\n",
        "    plt.title('Boxplot of startYear After Replacing Outliers') # Set the title for the plot\n",
        "    plt.show() # Display the plot\n",
        "\n",
        "# Call the function to generate the boxplot for 'averageRating'\n",
        "startYear_boxplot(df)"
      ]
    },
    {
      "cell_type": "code",
      "execution_count": null,
      "metadata": {
        "colab": {
          "base_uri": "https://localhost:8080/",
          "height": 564
        },
        "id": "JZAGardCO1RX",
        "outputId": "4feb5103-8327-43cf-9321-8d2dc73656f6"
      },
      "outputs": [
        {
          "output_type": "display_data",
          "data": {
            "text/plain": [
              "<Figure size 800x600 with 1 Axes>"
            ],
            "image/png": "[encoded data removed]"
          },
          "metadata": {}
        }
      ],
      "source": [
        "# Function to generate a boxplot for the 'averageRating' column\n",
        "def averageRating_boxplot(df):\n",
        "      # Convert the 'averageRating' column from PySpark DataFrame to Pandas DataFrame\n",
        "    pandas_df = df.select('averageRating').toPandas()\n",
        "\n",
        "    # create boxplot\n",
        "    plt.figure(figsize=(8, 6)) # Set the figure size for better visualization\n",
        "    sns.boxplot(x=pandas_df['averageRating'])  # Create a boxplot of the 'averageRating' values\n",
        "    plt.title('Boxplot of averageRating')  # Set the title for the plot\n",
        "    plt.show() # Display the plot\n",
        "\n",
        "# Call the function to generate the boxplot for 'averageRating'\n",
        "averageRating_boxplot(df)"
      ]
    },
    {
      "cell_type": "code",
      "execution_count": null,
      "metadata": {
        "id": "-iyEOBHDi1PP"
      },
      "outputs": [],
      "source": [
        "# Function to calculate the first quartile (Q1), third quartile (Q3), and interquartile range (IQR) for a specified column\n",
        "def calculate_Q1_Q3(df, column_name):\n",
        "\n",
        "    # Calculate the first quartile (Q1) using approxQuantile function. 0.25 represents the 25th percentile (Q1)\n",
        "    q1 = df.approxQuantile(column_name, [0.25], 0.0)[0]\n",
        "\n",
        "    # Calculate the third quartile (Q3) using approxQuantile function. 0.75 represents the 75th percentile (Q3)\n",
        "    q3 = df.approxQuantile(column_name, [0.75], 0.0)[0]\n",
        "\n",
        "    # Calculate the interquartile range (IQR)\n",
        "    iqr = q3 - q1\n",
        "    return q1, q3, iqr\n",
        "\n",
        "# Calculate Q1, Q3, and IQR for the 'averageRating' column\n",
        "q1, q3, iqr = calculate_Q1_Q3(df, 'averageRating')\n",
        "\n",
        "# Calculate the lower and upper bounds for outlier detection based on IQR\n",
        "lower_bound = q1 - 1.5 * iqr\n",
        "upper_bound = q3 + 1.5 * iqr"
      ]
    },
    {
      "cell_type": "code",
      "execution_count": null,
      "metadata": {
        "colab": {
          "base_uri": "https://localhost:8080/"
        },
        "id": "V8FFA44trPHO",
        "outputId": "53e52ff1-6079-42ad-9fde-6d67c7d90320"
      },
      "outputs": [
        {
          "output_type": "stream",
          "name": "stdout",
          "text": [
            "6.2\n"
          ]
        }
      ],
      "source": [
        "# Import functions from pyspark.sql module\n",
        "from pyspark.sql import functions as F\n",
        "\n",
        "# Define a function to calculate the median value of a specified column in a DataFrame\n",
        "def calculate_median_value(df, column_name):\n",
        "\n",
        "    # Use the percentile_approx function to calculate the approximate median (50th percentile) of the column\n",
        "    median_value = df.select(F.percentile_approx(column_name, 0.5)).first()[0]\n",
        "\n",
        "    # Return the calculated median value\n",
        "    return median_value\n",
        "\n",
        "# Call the function with a DataFrame 'df' and the column 'startYear' to calculate the median\n",
        "print(calculate_median_value(df, 'averageRating'))"
      ]
    },
    {
      "cell_type": "code",
      "execution_count": null,
      "metadata": {
        "id": "vfbC7L6QzM2N"
      },
      "outputs": [],
      "source": [
        "# Calculate the median value of the 'averageRating' column\n",
        "median_value = calculate_median_value(df, 'averageRating')\n",
        "\n",
        "# Replace outliers in the 'averageRating' column with the median value\n",
        "df = df.withColumn(\n",
        "    \"averageRating\",  # Specify the column to be modified\n",
        "    F.when((df[\"averageRating\"] < lower_bound) | (df[\"averageRating\"] > upper_bound), median_value)\n",
        "     .otherwise(df[\"averageRating\"])  # Keep values within the bounds unchanged\n",
        ")"
      ]
    },
    {
      "cell_type": "code",
      "execution_count": null,
      "metadata": {
        "colab": {
          "base_uri": "https://localhost:8080/",
          "height": 564
        },
        "id": "gnwmurkdzWNw",
        "outputId": "12010d0a-acf3-4900-8131-2ac08664118d"
      },
      "outputs": [
        {
          "output_type": "display_data",
          "data": {
            "text/plain": [
              "<Figure size 800x600 with 1 Axes>"
            ],
            "image/png": "[encoded data removed]"
          },
          "metadata": {}
        }
      ],
      "source": [
        "# Function to generate a boxplot for the 'averageRating' column\n",
        "def averageRating_boxplot(df):\n",
        "      # Convert the 'averageRating' column from PySpark DataFrame to Pandas DataFrame\n",
        "    pandas_df = df.select('averageRating').toPandas()\n",
        "\n",
        "    # create boxplot\n",
        "    plt.figure(figsize=(8, 6)) # Set the figure size for better visualization\n",
        "    sns.boxplot(x=pandas_df['averageRating'])  # Create a boxplot of the 'averageRating' values\n",
        "    plt.title('Boxplot of averageRating')  # Set the title for the plot\n",
        "    plt.show() # Display the plot\n",
        "\n",
        "# Call the function to generate the boxplot for 'averageRating'\n",
        "averageRating_boxplot(df)"
      ]
    },
    {
      "cell_type": "code",
      "execution_count": null,
      "metadata": {
        "id": "ZUn9BJcs8GOU"
      },
      "outputs": [],
      "source": [
        "df.count()"
      ]
    },
    {
      "cell_type": "code",
      "execution_count": null,
      "metadata": {
        "colab": {
          "base_uri": "https://localhost:8080/",
          "height": 564
        },
        "id": "jboiK8XpPDO4",
        "outputId": "1a4675c5-e22c-446e-bd58-6f30379d69f0"
      },
      "outputs": [
        {
          "output_type": "display_data",
          "data": {
            "text/plain": [
              "<Figure size 800x600 with 1 Axes>"
            ],
            "image/png": "[encoded data removed]"
          },
          "metadata": {}
        }
      ],
      "source": [
        "# Function to generate a boxplot for the 'runtimeMinutes' column\n",
        "def runtimeMinutes_boxplot(df):\n",
        "      # Convert the 'runtimeMinutes' column from PySpark DataFrame to Pandas DataFrame\n",
        "    pandas_df = df.select('runtimeMinutes').toPandas()\n",
        "\n",
        "    # create boxplot\n",
        "    plt.figure(figsize=(8, 6)) # Set the figure size for better visualization\n",
        "    sns.boxplot(x=pandas_df['runtimeMinutes'])  # Create a boxplot of the 'runtimeMinutes' values\n",
        "    plt.title('Boxplot of runtimeMinutes')  # Set the title for the plot\n",
        "    plt.show() # Display the plot\n",
        "\n",
        "# Call the function to generate the boxplot for 'runtimeMinutes'\n",
        "runtimeMinutes_boxplot(df)"
      ]
    },
    {
      "cell_type": "code",
      "execution_count": null,
      "metadata": {
        "id": "PXc9F9wiI4Fn"
      },
      "outputs": [],
      "source": [
        "# Function to calculate the first quartile (Q1), third quartile (Q3), and interquartile range (IQR) for a specified column\n",
        "def calculate_Q1_Q3(df, column_name):\n",
        "\n",
        "    # Calculate the first quartile (Q1) using approxQuantile function. 0.25 represents the 25th percentile (Q1)\n",
        "    q1 = df.approxQuantile(column_name, [0.25], 0.0)[0]\n",
        "\n",
        "    # Calculate the third quartile (Q3) using approxQuantile function. 0.75 represents the 75th percentile (Q3)\n",
        "    q3 = df.approxQuantile(column_name, [0.75], 0.0)[0]\n",
        "\n",
        "    # Calculate the interquartile range (IQR)\n",
        "    iqr = q3 - q1\n",
        "    return q1, q3, iqr\n",
        "\n",
        "# Calculate Q1, Q3, and IQR for the 'runtimeMinutes' column\n",
        "q1, q3, iqr = calculate_Q1_Q3(df, 'runtimeMinutes')\n",
        "\n",
        "# Calculate the lower and upper bounds for outlier detection based on IQR\n",
        "lower_bound = q1 - 1.5 * iqr\n",
        "upper_bound = q3 + 1.5 * iqr"
      ]
    },
    {
      "cell_type": "code",
      "execution_count": null,
      "metadata": {
        "id": "qLKMLvfbM0Ei"
      },
      "outputs": [],
      "source": [
        "# Replace outlier values in the 'runtimeMinutes' column with the lower or upper bound\n",
        "df = df.withColumn(\n",
        "    \"runtimeMinutes\",  # Specify the column to be modified\n",
        "    F.when(F.col(\"runtimeMinutes\") < lower_bound, lower_bound)  # Replace values below the lower bound with the lower bound\n",
        "     .when(F.col(\"runtimeMinutes\") > upper_bound, upper_bound)  # Replace values above the upper bound with the upper bound\n",
        "     .otherwise(F.col(\"runtimeMinutes\"))  # Keep values within the bounds unchanged\n",
        ")"
      ]
    },
    {
      "cell_type": "code",
      "execution_count": null,
      "metadata": {
        "colab": {
          "base_uri": "https://localhost:8080/",
          "height": 607
        },
        "id": "5Q9lqF8bNLCd",
        "outputId": "ac1df51a-e202-4ac4-d1b4-ba4da06d762b"
      },
      "outputs": [
        {
          "output_type": "display_data",
          "data": {
            "text/plain": [
              "<Figure size 800x600 with 1 Axes>"
            ],
            "image/png": "[encoded data removed]"
          },
          "metadata": {}
        }
      ],
      "source": [
        "# Convert 'runtimeMinutes' column to Pandas DataFrame\n",
        "winsorized_df = df.select('runtimeMinutes').toPandas()\n",
        "\n",
        "# Create a boxplot for the winsorized data\n",
        "plt.figure(figsize=(8, 6))\n",
        "sns.boxplot(x=winsorized_df['runtimeMinutes'])\n",
        "plt.title('Winsorized Runtime Distribution')\n",
        "plt.xlabel('Runtime Minutes')\n",
        "plt.tight_layout()\n",
        "plt.show()"
      ]
    },
    {
      "cell_type": "code",
      "execution_count": null,
      "metadata": {
        "id": "NF-Jy-yFOImT"
      },
      "outputs": [],
      "source": [
        "df.count()"
      ]
    },
    {
      "cell_type": "code",
      "execution_count": null,
      "metadata": {
        "colab": {
          "base_uri": "https://localhost:8080/",
          "height": 564
        },
        "id": "XEkR-LwKPO6-",
        "outputId": "e5e12421-e1f8-4929-b944-349b95acef17"
      },
      "outputs": [
        {
          "output_type": "display_data",
          "data": {
            "text/plain": [
              "<Figure size 800x600 with 1 Axes>"
            ],
            "image/png": "[encoded data removed]"
          },
          "metadata": {}
        }
      ],
      "source": [
        "pandas_df = df.select('numVotes').toPandas()\n",
        "\n",
        "# Step 2: Create a boxplot for the 'numVotes' column\n",
        "plt.figure(figsize=(8, 6))\n",
        "sns.boxplot(x=pandas_df['numVotes'])\n",
        "\n",
        "# Step 3: Show the plot\n",
        "plt.title('Boxplot of numVotes')\n",
        "plt.show()"
      ]
    },
    {
      "cell_type": "code",
      "execution_count": null,
      "metadata": {
        "id": "wNWvcMDzRKc-"
      },
      "outputs": [],
      "source": [
        "# Function to calculate the first quartile (Q1), third quartile (Q3), and interquartile range (IQR) for a specified column\n",
        "def calculate_Q1_Q3(df, column_name):\n",
        "\n",
        "    # Calculate the first quartile (Q1) using approxQuantile function. 0.25 represents the 25th percentile (Q1)\n",
        "    q1 = df.approxQuantile(column_name, [0.25], 0.0)[0]\n",
        "\n",
        "    # Calculate the third quartile (Q3) using approxQuantile function. 0.75 represents the 75th percentile (Q3)\n",
        "    q3 = df.approxQuantile(column_name, [0.75], 0.0)[0]\n",
        "\n",
        "    # Calculate the interquartile range (IQR)\n",
        "    iqr = q3 - q1\n",
        "    return q1, q3, iqr\n",
        "\n",
        "# Calculate Q1, Q3, and IQR for the 'numVotes' column\n",
        "q1, q3, iqr = calculate_Q1_Q3(df, 'numVotes')\n",
        "\n",
        "# Calculate the lower and upper bounds for outlier detection based on IQR\n",
        "lower_bound = q1 - 1.5 * iqr\n",
        "upper_bound = q3 + 1.5 * iqr"
      ]
    },
    {
      "cell_type": "code",
      "execution_count": null,
      "metadata": {
        "id": "dKn8IyPLRXo7"
      },
      "outputs": [],
      "source": [
        "# Apply the Winsorization technique to handle outliers in the 'numVotes' column\n",
        "df = df.withColumn(\n",
        "    \"numVotes\",  # Specify the column to be modified\n",
        "    F.when(F.col(\"numVotes\") < lower_bound, lower_bound)  # If 'numVotes' is less than the lower bound, set it to the lower bound\n",
        "     .when(F.col(\"numVotes\") > upper_bound, upper_bound)  # If 'numVotes' is greater than the upper bound, set it to the upper bound\n",
        "     .otherwise(F.col(\"numVotes\"))  # If 'numVotes' is within the bounds, keep the original value\n",
        ")"
      ]
    },
    {
      "cell_type": "code",
      "execution_count": null,
      "metadata": {
        "colab": {
          "base_uri": "https://localhost:8080/",
          "height": 607
        },
        "id": "_NbGIRlbRhPU",
        "outputId": "d7c3d227-0ff8-4db6-ecd8-27a287972c51"
      },
      "outputs": [
        {
          "output_type": "display_data",
          "data": {
            "text/plain": [
              "<Figure size 800x600 with 1 Axes>"
            ],
            "image/png": "[encoded data removed]"
          },
          "metadata": {}
        }
      ],
      "source": [
        "pandas_df_winsorized = df.select('numVotes').toPandas()\n",
        "\n",
        "# Step 4: Create a box plot for the winsorized data\n",
        "plt.figure(figsize=(8, 6))\n",
        "sns.boxplot(x=pandas_df_winsorized['numVotes'])\n",
        "plt.title('Winsorized numVote Distribution')\n",
        "plt.xlabel('Votes')\n",
        "plt.tight_layout()\n",
        "plt.show()"
      ]
    },
    {
      "cell_type": "code",
      "source": [
        "import matplotlib.pyplot as plt\n",
        "import numpy as np\n",
        "\n",
        "def map_reduce_votes_by_decade(df):\n",
        "    # Map: Extract (year, numVotes) pairs\n",
        "    mapped = df.select('startYear', 'numVotes').rdd.map(lambda row: (row['startYear'], int(row['numVotes'])))\n",
        "\n",
        "    # Reduce: Sum votes by year\n",
        "    reduced = mapped.reduceByKey(lambda x, y: x + y)\n",
        "\n",
        "    # Collect results\n",
        "    reduced_data = reduced.collect()\n",
        "\n",
        "    # Convert to dictionary\n",
        "    result = dict(reduced_data)\n",
        "\n",
        "    # Return the result\n",
        "    return result\n",
        "\n",
        "# Call the function with the DataFrame `df`\n",
        "result = map_reduce_votes_by_decade(df)\n",
        "\n",
        "# Prepare data for plotting\n",
        "years = list(result.keys())\n",
        "total_votes = list(result.values())\n",
        "\n",
        "# Group years into decades\n",
        "decades = [((year // 10) * 10) for year in years]\n",
        "binned_votes = [total_votes[i] for i in range(len(years))]\n",
        "\n",
        "# Create Histogram\n",
        "plt.figure(figsize=(10, 6))\n",
        "# Create bins for decades\n",
        "plt.hist(decades, bins=np.arange(min(decades), max(decades) + 10, 10), weights=binned_votes, color='skyblue', edgecolor='black')\n",
        "plt.title(\"Total Votes Per Decade\")\n",
        "plt.xlabel(\"Decade\")\n",
        "plt.ylabel(\"Total Votes\")\n",
        "\n",
        "# Turn off scientific notation on the y-axis\n",
        "plt.ticklabel_format(style='plain', axis='y')\n",
        "plt.xticks(np.arange(min(decades), max(decades) + 10, 10), rotation=45)\n",
        "plt.tight_layout()\n",
        "plt.show()"
      ],
      "metadata": {
        "colab": {
          "base_uri": "https://localhost:8080/",
          "height": 607
        },
        "id": "Z6H6RiSs1JPu",
        "outputId": "4d4970c2-76e6-4248-934a-7d45e50dec4e"
      },
      "execution_count": null,
      "outputs": [
        {
          "output_type": "display_data",
          "data": {
            "text/plain": [
              "<Figure size 1000x600 with 1 Axes>"
            ],
            "image/png": "[encoded data removed]"
          },
          "metadata": {}
        }
      ]
    },
    {
      "cell_type": "code",
      "source": [
        "from pyspark.sql.functions import col\n",
        "import matplotlib.pyplot as plt\n",
        "\n",
        "# Group by the 'types' column and count the occurrences of each type\n",
        "types_count = df.groupBy(\"Types\").count()\n",
        "\n",
        "# Sort by count in descending order to get the most frequent types\n",
        "types_count_sorted = types_count.orderBy(col(\"count\").desc())\n",
        "\n",
        "# Convert the result to Pandas for easier plotting\n",
        "types_count_pd = types_count_sorted.toPandas()\n",
        "\n",
        "# Plotting the bar chart\n",
        "plt.figure(figsize=(10, 6))\n",
        "plt.bar(types_count_pd['Types'], types_count_pd['count'], color='skyblue')\n",
        "plt.title(\"Most Frequent Types of Titles\")\n",
        "plt.xlabel(\"Title Types\")\n",
        "plt.ylabel(\"Count\")\n",
        "plt.xticks(rotation=90)\n",
        "plt.tight_layout()\n",
        "plt.show()"
      ],
      "metadata": {
        "colab": {
          "base_uri": "https://localhost:8080/",
          "height": 607
        },
        "id": "CIPWwCAlyOmD",
        "outputId": "dc90a257-981c-42ff-f826-33ba6d3eb35d"
      },
      "execution_count": null,
      "outputs": [
        {
          "output_type": "display_data",
          "data": {
            "text/plain": [
              "<Figure size 1000x600 with 1 Axes>"
            ],
            "image/png": "[encoded data removed]"
          },
          "metadata": {}
        }
      ]
    },
    {
      "cell_type": "code",
      "execution_count": null,
      "metadata": {
        "id": "NbX8BZ9zSHIC"
      },
      "outputs": [],
      "source": [
        "from pyspark.sql import functions as F\n",
        "# Function to analyze genre votes\n",
        "def analyze_genre_votes(df):\n",
        "    # Split the 'genres' column into individual rows and explode the array into rows\n",
        "    df_genre_votes = df.select(F.explode(F.split(df[\"genres\"], \",\")).alias(\"genre\"), \"numVotes\")\n",
        "\n",
        "    # Group the data by genre and calculate total votes for each genre\n",
        "    df_genre_votes_agg = df_genre_votes.groupBy(\"genre\").agg(\n",
        "        # Cast numVotes to integer and sum them for each genre\n",
        "        F.sum(F.col(\"numVotes\").cast(\"int\")).alias(\"total_votes\")\n",
        "    )\n",
        "\n",
        "    # Convert Spark DataFrame to Pandas DataFrame, orderBy sorts the genres by total votes in descending order before conversion\n",
        "    df_genre_votes_pandas = df_genre_votes_agg.orderBy(F.desc(\"total_votes\")).toPandas()\n",
        "\n",
        "    return df_genre_votes_pandas\n",
        "\n",
        "# Call the function 'analyze_genre_votes' to process the 'df' DataFrame,\n",
        "df_genre_votes_pandas = analyze_genre_votes(df)\n",
        "\n",
        "# Create a bar chart using matplotlib\n",
        "plt.figure(figsize=(10, 6))\n",
        "plt.bar(df_genre_votes_pandas['genre'], df_genre_votes_pandas['total_votes'], color='skyblue')\n",
        "plt.xlabel('Genre')\n",
        "plt.ylabel('Total Vote Count')\n",
        "plt.title('Total Vote Count per Genre')\n",
        "plt.ticklabel_format(style='plain', axis='y') # Disable scientific notation for y-axis\n",
        "plt.xticks(rotation=45, ha='right') # Rotate x-axis labels for better readability\n",
        "plt.ylim(0, df_genre_votes_pandas['total_votes'].max() * 1.1)\n",
        "plt.tight_layout() # Adjust layout\n",
        "plt.show() # Show the plot"
      ]
    },
    {
      "cell_type": "code",
      "execution_count": null,
      "metadata": {
        "id": "cCwdblnS3IBs"
      },
      "outputs": [],
      "source": [
        "# Display the first few rows of the DataFrame 'df_genre_votes_agg'\n",
        "df_genre_votes_agg = analyze_genre_votes(df)  # This calls the function and stores the result in 'df_genre_votes_agg'\n",
        "\n",
        "# Now, you can use the .show() method to display the first few rows of the Spark DataFrame\n",
        "df_genre_votes_agg.show()\n"
      ]
    },
    {
      "cell_type": "code",
      "execution_count": null,
      "metadata": {
        "id": "QtN71kMk3MrB"
      },
      "outputs": [],
      "source": [
        "import seaborn as sns\n",
        "df_title_rating = df.groupBy(\"titleType\").agg(\n",
        "    F.collect_list(\"averageRating\").alias(\"ratings\")\n",
        ")\n",
        "\n",
        "# Convert to Pandas DataFrame for visualization\n",
        "df_title_rating_pandas = df_title_rating.toPandas()\n",
        "\n",
        "# Flatten the DataFrame for seaborn plotting\n",
        "# Create a new DataFrame where each row contains a 'titleType' and its corresponding rating\n",
        "flat_data = {\n",
        "    'titleType': [],\n",
        "    'averageRating': []\n",
        "}\n",
        "\n",
        "for _, row in df_title_rating_pandas.iterrows():\n",
        "    for rating in row['ratings']:\n",
        "        flat_data['titleType'].append(row['titleType'])\n",
        "        flat_data['averageRating'].append(rating)\n",
        "\n",
        "df_flat = pd.DataFrame(flat_data)\n",
        "\n",
        "#Create the violin plot using seaborn\n",
        "plt.figure(figsize=(10, 6))\n",
        "sns.violinplot(x='titleType', y='averageRating', data=df_flat, palette='Set2')\n",
        "plt.title('Distribution of Ratings by Title Type')\n",
        "plt.tight_layout()\n",
        "plt.show()"
      ]
    },
    {
      "cell_type": "code",
      "execution_count": null,
      "metadata": {
        "id": "6rfLnSmVytyL"
      },
      "outputs": [],
      "source": [
        "df.show()"
      ]
    },
    {
      "cell_type": "code",
      "execution_count": null,
      "metadata": {
        "id": "7OyrB1j1zKdh"
      },
      "outputs": [],
      "source": [
        "df.count()"
      ]
    },
    {
      "cell_type": "code",
      "execution_count": null,
      "metadata": {
        "id": "ZhdR6NyD7gLD"
      },
      "outputs": [],
      "source": [
        "df_title_rating.show()"
      ]
    },
    {
      "cell_type": "code",
      "execution_count": null,
      "metadata": {
        "id": "oysld54m0ucq"
      },
      "outputs": [],
      "source": [
        "df_pandas = df.toPandas()\n",
        "\n",
        "plt.figure(figsize=(12, 6))\n",
        "sns.histplot(df_pandas['runtimeMinutes'], bins=20,  color='blue')\n",
        "plt.title(\"Distribution of Movie Runtimes in Minutes\")\n",
        "plt.xlabel(\"Runtime (Minutes)\")\n",
        "plt.ylabel(\"Frequency\")\n",
        "plt.show()"
      ]
    },
    {
      "cell_type": "code",
      "execution_count": null,
      "metadata": {
        "id": "detwhOd-B1r4"
      },
      "outputs": [],
      "source": [
        "from pyspark.sql.functions import mean\n",
        "\n",
        "#Calculate the average votes for each titleType\n",
        "avg_votes_by_title_type = df.groupBy('titleType').agg(\n",
        "    mean('numVotes').alias('avg_votes')\n",
        ")\n",
        "\n",
        "# Convert the Spark DataFrame to Pandas DataFrame\n",
        "avg_votes_by_title_type_pd = avg_votes_by_title_type.toPandas()\n",
        "\n",
        "# Plot a Pie Chart of the average votes for each titleType\n",
        "plt.figure(figsize=(8, 8))\n",
        "plt.pie(\n",
        "    avg_votes_by_title_type_pd['avg_votes'],\n",
        "    labels=avg_votes_by_title_type_pd['titleType'],\n",
        "    autopct='%1.1f%%',  # Display percentage on each slice\n",
        "    startangle=90,  # Start the first slice at 90 degrees\n",
        "    colors=sns.color_palette(\"muted\", len(avg_votes_by_title_type_pd))  # Color palette\n",
        ")\n",
        "plt.title(\"Distribution of Average Votes by Title Type\", fontsize=16)\n",
        "plt.show()"
      ]
    },
    {
      "cell_type": "code",
      "execution_count": null,
      "metadata": {
        "id": "VEosMyzhJNt6"
      },
      "outputs": [],
      "source": [
        "# Convert Spark DataFrame to Pandas DataFrame\n",
        "df_pandas = df.toPandas()\n",
        "\n",
        "# Create a violin plot to show the variation of runtimeMinutes across each title type\n",
        "plt.figure(figsize=(12, 5))\n",
        "sns.violinplot(x='titleType', y='runtimeMinutes', data=df_pandas, palette='muted')\n",
        "plt.title('Runtime Distribution by Title Type')\n",
        "plt.xlabel('Title Type')\n",
        "plt.ylabel('Runtime Minutes')\n",
        "plt.xticks(rotation=45)\n",
        "plt.show()"
      ]
    },
    {
      "cell_type": "code",
      "execution_count": null,
      "metadata": {
        "id": "yd2mfvwlJ-CV"
      },
      "outputs": [],
      "source": [
        "df_selected = df.select('tconst', 'startYear', 'runtimeMinutes')\n",
        "df_filtered = df_selected.limit(600)\n",
        "json_output = 'Output_json.json'\n",
        "df_filtered.write.json(json_output, mode='overwrite', compression='none')\n",
        "print(f\"Data successfully saved to {json_output}\")"
      ]
    },
    {
      "cell_type": "code",
      "execution_count": null,
      "metadata": {
        "id": "ZjZf5HNxCO3J"
      },
      "outputs": [],
      "source": [
        "from pyspark.sql import functions as F\n",
        "\n",
        "def analyze_yearly_trends(df):\n",
        "    # Group by start year and title type, Aggregate to count occurrences, Order the results\n",
        "    yearly_trends = (df.groupBy(\"startYear\", \"titleType\").agg(F.count(\"*\").alias(\"count\")).orderBy(\"startYear\", \"titleType\"))\n",
        "    return yearly_trends\n",
        "result = analyze_yearly_trends(df)\n",
        "\n",
        "# Convert to Pandas DataFrame for plotting\n",
        "result_pd = result.toPandas()\n",
        "\n",
        "# Plotting\n",
        "plt.figure(figsize=(12, 6))\n",
        "sns.lineplot(data=result_pd, x=\"startYear\", y=\"count\", hue=\"titleType\", marker=\"o\")\n",
        "plt.title('Variation of Title type over the years', fontsize=16)\n",
        "plt.xlabel('Year', fontsize=14)\n",
        "plt.ylabel('Title Count', fontsize=14)\n",
        "plt.legend(title='Title Type', loc='upper left')\n",
        "plt.grid(True)\n",
        "plt.show()"
      ]
    },
    {
      "cell_type": "code",
      "execution_count": null,
      "metadata": {
        "id": "otjMLPHrL9H-"
      },
      "outputs": [],
      "source": [
        "from pyspark.sql import functions as F\n",
        "\n",
        "def analyze_roles(df):\n",
        "    # Group by 'category' and count distinct 'nconst' for each role\n",
        "    role_counts = (df.groupBy(\"category\")\n",
        "        .agg(F.countDistinct(\"nconst\").alias(\"crew_member_count\"))  # Count distinct crew members\n",
        "        .orderBy(\"crew_member_count\", ascending=False)  #Sort by count\n",
        "    )\n",
        "    return role_counts\n",
        "role_counts_df = analyze_roles(df)\n",
        "\n",
        "# Convert PySpark DataFrame to Pandas DataFrame for plotting\n",
        "role_counts_pd = role_counts_df.toPandas()\n",
        "\n",
        "#Plot the results\n",
        "plt.figure(figsize=(10, 6))\n",
        "sns.barplot(x='crew_member_count', y='category', data=role_counts_pd, palette='viridis')\n",
        "plt.title(\"Number of Crew Members per Role (Category)\", fontsize=16)\n",
        "plt.xlabel(\"Number of Crew Members\", fontsize=12)\n",
        "plt.ylabel(\"Role (Category)\", fontsize=12)\n",
        "plt.show()"
      ]
    },
    {
      "cell_type": "code",
      "execution_count": null,
      "metadata": {
        "id": "TqInXktjP4iq"
      },
      "outputs": [],
      "source": [
        "# Select the two columns and limit the rows\n",
        "df_selected = df.select('titleType', 'startYear').limit(500)\n",
        "\n",
        "# Convert to Pandas DataFrame\n",
        "df_selected_pandas = df_selected.toPandas()\n",
        "\n",
        "# Save as CSV in Colab\n",
        "csv_output = '/content/output_data.csv'\n",
        "df_selected_pandas.to_csv(csv_output, index=False)\n",
        "\n",
        "# Download the CSV to your local machine\n",
        "from google.colab import files\n",
        "files.download(csv_output)  # This will download the file to your local machine\n",
        "\n",
        "print(\"Data exported successfully to local machine.\")"
      ]
    }
  ],
  "metadata": {
    "colab": {
      "provenance": [],
      "authorship_tag": "ABX9TyP2jkpb7IE45JZxJbxIFecX",
      "include_colab_link": true
    },
    "kernelspec": {
      "display_name": "Python 3",
      "name": "python3"
    },
    "language_info": {
      "name": "python"
    }
  },
  "nbformat": 4,
  "nbformat_minor": 0
}